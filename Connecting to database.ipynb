{
 "cells": [
  {
   "cell_type": "code",
   "execution_count": 1,
   "id": "5caedf1b",
   "metadata": {},
   "outputs": [],
   "source": [
    "import pandas as pd\n",
    "import pypyodbc"
   ]
  },
  {
   "cell_type": "code",
   "execution_count": 2,
   "id": "3a19ed5d",
   "metadata": {},
   "outputs": [],
   "source": [
    "conn_my_db = (    \n",
    "    r\"DRIVER={SQL Server};\"\n",
    "    r\"Server=...;\"\n",
    "    r\"Database=...;\"\n",
    "    r\"Trusted_Connection=yes;\"\n",
    "    )\n",
    "conn = pypyodbc.connect(conn_my_db)\n",
    "cursor = conn.cursor()"
   ]
  },
  {
   "cell_type": "code",
   "execution_count": 3,
   "id": "5b4ee521",
   "metadata": {},
   "outputs": [],
   "source": [
    "query = '''\n",
    "select top 5 *\n",
    "from my_table\n",
    "'''\n",
    "results =  pd.io.sql.read_sql(query, conn)"
   ]
  },
  {
   "cell_type": "code",
   "execution_count": 4,
   "id": "d9816d03",
   "metadata": {},
   "outputs": [],
   "source": [
    "cursor.close()"
   ]
  },
  {
   "cell_type": "code",
   "execution_count": null,
   "id": "6668c300",
   "metadata": {},
   "outputs": [],
   "source": []
  }
 ],
 "metadata": {
  "kernelspec": {
   "display_name": "Python 3",
   "language": "python",
   "name": "python3"
  },
  "language_info": {
   "codemirror_mode": {
    "name": "ipython",
    "version": 3
   },
   "file_extension": ".py",
   "mimetype": "text/x-python",
   "name": "python",
   "nbconvert_exporter": "python",
   "pygments_lexer": "ipython3",
   "version": "3.8.5"
  }
 },
 "nbformat": 4,
 "nbformat_minor": 5
}
